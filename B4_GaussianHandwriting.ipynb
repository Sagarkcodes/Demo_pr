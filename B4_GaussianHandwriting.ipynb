{
 "cells": [
  {
   "cell_type": "code",
   "execution_count": null,
   "id": "b02e6003-176b-40ae-9125-b559b47840bb",
   "metadata": {},
   "outputs": [],
   "source": [
    "import numpy as np\n",
    "import matplotlib.pyplot as plt\n",
    "from sklearn.datasets import load_digits\n",
    "from sklearn.mixture import GaussianMixture\n",
    "from sklearn.decomposition import PCA\n",
    "from sklearn.metrics import adjusted_rand_score\n",
    "\n",
    "# Step 1: Load digit dataset\n",
    "digits = load_digits()\n",
    "X = digits.data\n",
    "y_true = digits.target  # True labels, used only for evaluation\n",
    "\n",
    "# Step 2: Dimensionality reduction (optional, for visualization)\n",
    "pca = PCA(n_components=2)\n",
    "X_pca = pca.fit_transform(X)\n",
    "\n",
    "# Step 3: Fit GMM using EM algorithm\n",
    "gmm = GaussianMixture(n_components=10, covariance_type='full', random_state=42)\n",
    "gmm.fit(X)\n",
    "y_gmm = gmm.predict(X)\n",
    "\n",
    "# Step 4: Evaluation (Adjusted Rand Index)\n",
    "ari = adjusted_rand_score(y_true, y_gmm)\n",
    "print(f\"Adjusted Rand Index (clustering quality): {ari:.2f}\")\n",
    "\n",
    "# Step 5: Visualization\n",
    "plt.figure(figsize=(8, 6))\n",
    "plt.scatter(X_pca[:, 0], X_pca[:, 1], c=y_gmm, cmap='tab10', s=15)\n",
    "plt.title(\"GMM Clustering of Handwritten Digits (PCA Projection)\")\n",
    "plt.xlabel(\"PCA 1\")\n",
    "plt.ylabel(\"PCA 2\")\n",
    "plt.colorbar(label=\"Cluster Label\")\n",
    "plt.grid(True)\n",
    "plt.show()\n"
   ]
  }
 ],
 "metadata": {
  "kernelspec": {
   "display_name": "Python 3 (ipykernel)",
   "language": "python",
   "name": "python3"
  },
  "language_info": {
   "codemirror_mode": {
    "name": "ipython",
    "version": 3
   },
   "file_extension": ".py",
   "mimetype": "text/x-python",
   "name": "python",
   "nbconvert_exporter": "python",
   "pygments_lexer": "ipython3",
   "version": "3.12.4"
  }
 },
 "nbformat": 4,
 "nbformat_minor": 5
}
