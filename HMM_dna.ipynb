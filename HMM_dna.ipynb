{
 "cells": [
  {
   "cell_type": "code",
   "execution_count": null,
   "id": "726981d5-3f3e-49ca-b118-10269c4c3d0b",
   "metadata": {},
   "outputs": [],
   "source": [
    "from hmmlearn.hmm import MultinomialHMM\n",
    "import numpy as np\n",
    "from sklearn.metrics import classification_report\n",
    "\n",
    "# Step 1: Sample DNA sequences and their labels\n",
    "sequences = [\"ATGCGTACGTAGCTAGCTAGCTA\", \"CGTACGTAGCGTATAGCTAGCTA\"]\n",
    "labels =    [\"IIIIIGGGGGGGGGGGGIIIIII\", \"IIIGGGGGGGGGGGIIIIIGGGG\"]\n",
    "\n",
    "# Step 2: Map nucleotides and states to integers\n",
    "nucleotide_map = {'A': 0, 'C': 1, 'G': 2, 'T': 3}\n",
    "state_map = {'I': 0, 'G': 1}\n",
    "inverse_state_map = {0: 'I', 1: 'G'}\n",
    "\n",
    "# Step 3: Encode sequences and labels\n",
    "X = [np.array([nucleotide_map[nuc] for nuc in seq]) for seq in sequences]\n",
    "y = [np.array([state_map[state] for state in lbl]) for lbl in labels]\n",
    "lengths = [len(seq) for seq in X]\n",
    "\n",
    "# Step 4: Prepare data for training\n",
    "X_concat = np.concatenate(X).reshape(-1, 1)\n",
    "y_concat = np.concatenate(y)\n",
    "\n",
    "# Step 5: Define and train the HMM\n",
    "model = MultinomialHMM(n_components=2, n_iter=100, random_state=42)\n",
    "model.fit(X_concat, lengths)\n",
    "\n",
    "# Step 6: Prediction using Viterbi on one sequence\n",
    "test_seq = X[0].reshape(-1, 1)\n",
    "true_labels = y[0]\n",
    "log_prob, predicted_states = model.decode(test_seq, algorithm=\"viterbi\")\n",
    "\n",
    "# Step 7: Evaluation\n",
    "print(\"True Labels:     \", true_labels)\n",
    "print(\"Predicted States:\", predicted_states)\n",
    "print(\"\\nClassification Report:\")\n",
    "print(classification_report(true_labels, predicted_states, target_names=[\"Intergenic\", \"Gene\"]))\n"
   ]
  }
 ],
 "metadata": {
  "kernelspec": {
   "display_name": "Python 3 (ipykernel)",
   "language": "python",
   "name": "python3"
  },
  "language_info": {
   "codemirror_mode": {
    "name": "ipython",
    "version": 3
   },
   "file_extension": ".py",
   "mimetype": "text/x-python",
   "name": "python",
   "nbconvert_exporter": "python",
   "pygments_lexer": "ipython3",
   "version": "3.12.4"
  }
 },
 "nbformat": 4,
 "nbformat_minor": 5
}
